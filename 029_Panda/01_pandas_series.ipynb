{
 "cells": [
  {
   "cell_type": "markdown",
   "id": "a12c03d3",
   "metadata": {},
   "source": [
    "Panda Series\n",
    "\n",
    "a series is a 1D labelled array caplable of holding any data type. The axis labels are collectively called the index"
   ]
  },
  {
   "cell_type": "markdown",
   "id": "99f5ed00",
   "metadata": {},
   "source": [
    "Creating Series"
   ]
  },
  {
   "cell_type": "code",
   "execution_count": 1,
   "id": "4d19a95b",
   "metadata": {},
   "outputs": [],
   "source": [
    "import numpy as np \n",
    "import pandas as pd "
   ]
  },
  {
   "cell_type": "code",
   "execution_count": 2,
   "id": "5953d472-1830-49fb-8de8-a502ef03e3fd",
   "metadata": {},
   "outputs": [],
   "source": [
    "labels = ['a', 'b', 'c']\n",
    "my_list = [10, 20, 30]\n",
    "arr = np.array([10, 20, 30])\n",
    "d = {1: 10, 2: 20, 3: 30}"
   ]
  },
  {
   "cell_type": "code",
   "execution_count": 4,
   "id": "2764f623-f734-4f6e-b67e-d1b702bfef0e",
   "metadata": {},
   "outputs": [
    {
     "data": {
      "text/plain": [
       "0    10\n",
       "1    20\n",
       "2    30\n",
       "dtype: int64"
      ]
     },
     "execution_count": 4,
     "metadata": {},
     "output_type": "execute_result"
    }
   ],
   "source": [
    "pd.Series(my_list)\n",
    "#gives a vertical series"
   ]
  },
  {
   "cell_type": "code",
   "execution_count": 5,
   "id": "365dd5a5-9a78-46c5-bd9d-f11795f5dd0f",
   "metadata": {},
   "outputs": [
    {
     "data": {
      "text/plain": [
       "a    10\n",
       "b    20\n",
       "c    30\n",
       "dtype: int64"
      ]
     },
     "execution_count": 5,
     "metadata": {},
     "output_type": "execute_result"
    }
   ],
   "source": [
    "pd.Series(my_list, index = labels)"
   ]
  },
  {
   "cell_type": "code",
   "execution_count": 6,
   "id": "cc13b32c-5ad2-409a-8ab1-2767b377b855",
   "metadata": {},
   "outputs": [
    {
     "data": {
      "text/plain": [
       "0    10\n",
       "1    20\n",
       "2    30\n",
       "dtype: int64"
      ]
     },
     "execution_count": 6,
     "metadata": {},
     "output_type": "execute_result"
    }
   ],
   "source": [
    "pd.Series(arr)\n",
    "# Note: Cannot pass 2D arrays to Series, as Series is inherently 1-dimensional"
   ]
  },
  {
   "cell_type": "code",
   "execution_count": 8,
   "id": "9097a703-8853-451e-8d69-de8e4c58ee3c",
   "metadata": {},
   "outputs": [
    {
     "data": {
      "text/plain": [
       "1    10\n",
       "2    20\n",
       "3    30\n",
       "dtype: int64"
      ]
     },
     "execution_count": 8,
     "metadata": {},
     "output_type": "execute_result"
    }
   ],
   "source": [
    "pd.Series(d)\n",
    "#labels are keys\n",
    "#and the values are the values in series"
   ]
  },
  {
   "cell_type": "code",
   "execution_count": null,
   "id": "1c18682f-86db-4c4c-9ad3-7d3460a94431",
   "metadata": {},
   "outputs": [],
   "source": []
  }
 ],
 "metadata": {
  "kernelspec": {
   "display_name": "Python [conda env:base] *",
   "language": "python",
   "name": "conda-base-py"
  },
  "language_info": {
   "codemirror_mode": {
    "name": "ipython",
    "version": 3
   },
   "file_extension": ".py",
   "mimetype": "text/x-python",
   "name": "python",
   "nbconvert_exporter": "python",
   "pygments_lexer": "ipython3",
   "version": "3.13.5"
  }
 },
 "nbformat": 4,
 "nbformat_minor": 5
}
