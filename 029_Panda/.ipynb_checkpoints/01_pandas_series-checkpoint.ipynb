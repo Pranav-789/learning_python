{
 "cells": [
  {
   "cell_type": "markdown",
   "id": "a12c03d3",
   "metadata": {},
   "source": [
    "Panda Series\n",
    "\n",
    "a series is a 1D labelled array caplable of holding any data type. The axis labels are collectively called the index"
   ]
  },
  {
   "cell_type": "markdown",
   "id": "99f5ed00",
   "metadata": {},
   "source": [
    "Creating Series"
   ]
  },
  {
   "cell_type": "code",
   "execution_count": null,
   "id": "4d19a95b",
   "metadata": {},
   "outputs": [],
   "source": []
  }
 ],
 "metadata": {
  "language_info": {
   "name": "python"
  }
 },
 "nbformat": 4,
 "nbformat_minor": 5
}
