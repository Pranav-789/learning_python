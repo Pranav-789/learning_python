{
 "cells": [
  {
   "cell_type": "code",
   "execution_count": 1,
   "id": "20beb902-c142-457c-b76e-3ed9ec7c6d5f",
   "metadata": {},
   "outputs": [],
   "source": [
    "import numpy as np"
   ]
  },
  {
   "cell_type": "markdown",
   "id": "b8184faf-56e6-4cb5-84bc-9a23cce153fe",
   "metadata": {},
   "source": [
    "**Valid Sudoku**"
   ]
  },
  {
   "cell_type": "code",
   "execution_count": null,
   "id": "01aca062-5ef2-423a-94d1-24cb73fc0551",
   "metadata": {},
   "outputs": [],
   "source": [
    "s = np.array([\n",
    "    [5, 3, 4, 6, 7, 8, 9, 1, 2],\n",
    "    [6, 7, 2, 1, 9, 5, 3, 4, 8],\n",
    "    [1, 9, 8, 3, 4, 2, 5, 6, 7],\n",
    "    \n",
    "    [8, 5, 9, 7, 6, 1, 4, 2, 3],\n",
    "    [4, 2, 6, 8, 5, 3, 7, 9, 1],\n",
    "    [7, 1, 3, 9, 2, 4, 8, 5, 6],\n",
    "    \n",
    "    [9, 6, 1, 5, 3, 7, 2, 8, 4],\n",
    "    [2, 8, 7, 4, 1, 9, 6, 3, 5],\n",
    "    [3, 4, 5, 2, 8, 6, 1, 7, 9]\n",
    "])\n",
    "#Soduku rules\n",
    "#sudoku has 9 cells, with a 3by3 division\n",
    "#it has 9 rows and 9 columns\n",
    "#the sum of whole row or column should be 45, so that all numbers are unique between 1 to 9"
   ]
  },
  {
   "cell_type": "code",
   "execution_count": 42,
   "id": "f59ba468",
   "metadata": {},
   "outputs": [
    {
     "name": "stdout",
     "output_type": "stream",
     "text": [
      "The given example of the sudoku is valid\n"
     ]
    }
   ],
   "source": [
    "#My Solution\n",
    "isSudokuValid = True\n",
    "vertical_lines = np.hsplit(s, 9)\n",
    "\n",
    "for line in vertical_lines:\n",
    "    sum = 0\n",
    "    for num in line:\n",
    "        sum += num\n",
    "    if (sum!=45):\n",
    "        isSudokuValid = False\n",
    "\n",
    "horizontal_lines = np.vsplit(s, 9)\n",
    "\n",
    "for line in horizontal_lines:\n",
    "    sum = 0\n",
    "    for num in line[0]:\n",
    "        sum += num\n",
    "    if(sum != 45):\n",
    "        isSudokuValid = False\n",
    "\n",
    "for i in range(3):\n",
    "    for j in range(3):\n",
    "        block = s[3*i:3*(i+1), 3*j:3*(j+1)]\n",
    "        if (np.sum(block) != 45):\n",
    "            isSudokuValid = False\n",
    "\n",
    "if(isSudokuValid):\n",
    "    print(\"The given example of the sudoku is valid\")\n",
    "else:\n",
    "    print(\"The given example of the sudoku is not valid\")\n"
   ]
  },
  {
   "cell_type": "code",
   "execution_count": 37,
   "id": "87896935",
   "metadata": {},
   "outputs": [
    {
     "name": "stdout",
     "output_type": "stream",
     "text": [
      "The validity of sudoku:  True\n"
     ]
    }
   ],
   "source": [
    "#Instructor's solution follow up\n",
    "validity = True\n",
    "rowSumArray = np.sum(s, axis = 1) #for row sum\n",
    "for sum in rowSumArray:\n",
    "    if(sum != 45):\n",
    "        validity = False\n",
    "\n",
    "colSumArray = np.sum(s, axis = 0)\n",
    "for sum in colSumArray:\n",
    "    if(sum != 45):\n",
    "        validity = False\n",
    "\n",
    "\n",
    "#block (3,3) checking\n",
    "\n",
    "for i in range(3):\n",
    "    for j in range(3):\n",
    "        block = s[3*i:3*(i+1), 3*j:3*(j+1)]\n",
    "        if (np.sum(block) != 45):\n",
    "            validity = False\n",
    "\n",
    "\n",
    "print(\"The validity of sudoku: \", validity)\n"
   ]
  },
  {
   "cell_type": "markdown",
   "id": "b80e97ca-7b75-4d54-b17b-1dc633d28d21",
   "metadata": {},
   "source": [
    "**General Questions**"
   ]
  },
  {
   "cell_type": "code",
   "execution_count": 74,
   "id": "1a661d89-c528-4af5-9117-907f23f8dfeb",
   "metadata": {},
   "outputs": [],
   "source": [
    "import numpy as np\n",
    "\n",
    "# Columns: [Age, Math Marks, Science Marks]\n",
    "data = np.array([\n",
    "    [18, 85, 78],   # Student 1\n",
    "    [19, 92, 88],   # Student 2\n",
    "    [17, 76, 95],   # Student 3\n",
    "    [18, 65, 70],   # Student 4\n",
    "    [20, 90, 85]    # Student 5\n",
    "])"
   ]
  },
  {
   "cell_type": "code",
   "execution_count": 75,
   "id": "cc86649d-6eaf-4f29-ae82-626d87ab0412",
   "metadata": {},
   "outputs": [
    {
     "data": {
      "text/plain": [
       "(5, 3)"
      ]
     },
     "execution_count": 75,
     "metadata": {},
     "output_type": "execute_result"
    }
   ],
   "source": [
    "#Get the shape of the matrix.\n",
    "# np.shape(data)\n",
    "data.shape"
   ]
  },
  {
   "cell_type": "code",
   "execution_count": 76,
   "id": "512ab9df-174c-473a-b85a-edcaf1694bc3",
   "metadata": {},
   "outputs": [
    {
     "name": "stdout",
     "output_type": "stream",
     "text": [
      "The average of the data:  18.4\n",
      "The average of the data:  18.4\n"
     ]
    }
   ],
   "source": [
    "#Find average age of students.\n",
    "print(\"The average of the data: \",np.average(data[:, 0]))\n",
    "print(\"The average of the data: \",np.mean(data[:,0]))"
   ]
  },
  {
   "cell_type": "code",
   "execution_count": 77,
   "id": "050a5141-ab0a-4e9d-be98-bb37d1e8bd3f",
   "metadata": {},
   "outputs": [
    {
     "name": "stdout",
     "output_type": "stream",
     "text": [
      "[85 92 76 65 90]\n"
     ]
    }
   ],
   "source": [
    "#Extract Math marks of all students.\n",
    "#math marks is second column\n",
    "print(data[:, 1])"
   ]
  },
  {
   "cell_type": "code",
   "execution_count": 78,
   "id": "05a724aa-b2b6-4c32-b1f6-03b568d87649",
   "metadata": {},
   "outputs": [
    {
     "name": "stdout",
     "output_type": "stream",
     "text": [
      "95\n"
     ]
    }
   ],
   "source": [
    "#Find the highest Science mark.\n",
    "highest_marks_in_science = data[:, 2].max()\n",
    "print(highest_marks_in_science)\n"
   ]
  },
  {
   "cell_type": "code",
   "execution_count": 79,
   "id": "58dbe813-ad7d-4bd1-af72-81f0f7cd86ff",
   "metadata": {},
   "outputs": [
    {
     "name": "stdout",
     "output_type": "stream",
     "text": [
      "The student's age is 19, he scores 92 in maths and 88 in science\n",
      "The student's age is 20, he scores 90 in maths and 85 in science\n"
     ]
    }
   ],
   "source": [
    "#Get details of the student who scored more than 90 in Math.\n",
    "for vec in data:\n",
    "    if vec[1] >= 90:\n",
    "        print(f\"The student's age is {vec[0]}, he scores {vec[1]} in maths and {vec[2]} in science\")\n"
   ]
  },
  {
   "cell_type": "code",
   "execution_count": 80,
   "id": "699a32d2",
   "metadata": {},
   "outputs": [
    {
     "data": {
      "text/plain": [
       "array([[19, 92, 88]])"
      ]
     },
     "execution_count": 80,
     "metadata": {},
     "output_type": "execute_result"
    }
   ],
   "source": [
    "# following instructor's approach for above question\n",
    "data[data[:, 1] > 90]"
   ]
  },
  {
   "cell_type": "code",
   "execution_count": 81,
   "id": "0d8d4e9f-e7aa-4926-a432-4565b3e08f27",
   "metadata": {},
   "outputs": [
    {
     "data": {
      "text/plain": [
       "array([90, 97, 81, 70, 95])"
      ]
     },
     "execution_count": 81,
     "metadata": {},
     "output_type": "execute_result"
    }
   ],
   "source": [
    "#Increase Math marks of all students by 5.\n",
    "#use=ing broadcasting\n",
    "newData = data[:, 1]+ 5\n",
    "newData"
   ]
  },
  {
   "cell_type": "code",
   "execution_count": 82,
   "id": "6d3945af-91b5-4e81-ad8d-3ec3dca1119d",
   "metadata": {},
   "outputs": [
    {
     "data": {
      "text/plain": [
       "3"
      ]
     },
     "execution_count": 82,
     "metadata": {},
     "output_type": "execute_result"
    }
   ],
   "source": [
    "#Find how many students are younger than 19.\n",
    "len(data[data[:, 0] < 19])"
   ]
  },
  {
   "cell_type": "code",
   "execution_count": 83,
   "id": "64134eb8-c6d1-4d0b-a19b-1d124b18cf71",
   "metadata": {},
   "outputs": [
    {
     "data": {
      "text/plain": [
       "array([81.6, 83.2])"
      ]
     },
     "execution_count": 83,
     "metadata": {},
     "output_type": "execute_result"
    }
   ],
   "source": [
    "#Calculate the average marks in each subject (column-wise mean).\n",
    "# data[:, 1:3].mean(axis = 0)\n",
    "# data[:, 1:].mean(axis = 0)\n",
    "#or u can use\n",
    "np.mean(data[:, 1:], axis = 0)"
   ]
  },
  {
   "cell_type": "code",
   "execution_count": 84,
   "id": "0c44133f-6641-4da8-9d52-e28ee75098c4",
   "metadata": {},
   "outputs": [
    {
     "data": {
      "text/plain": [
       "array([[19, 92, 88],\n",
       "       [20, 90, 85]])"
      ]
     },
     "execution_count": 84,
     "metadata": {},
     "output_type": "execute_result"
    }
   ],
   "source": [
    "#Get data of students who scored at least 80 in both subjects.\n",
    "# data[(data[:, 1] >= 80) and (data[:, 2] >= 80)]\n",
    "data[(data[:, 1] >= 80) & (data[:, 2] >= 80)]\n",
    "#here the classical 'and' does not work, we have to use '&'"
   ]
  },
  {
   "cell_type": "code",
   "execution_count": 85,
   "id": "7619e559-c244-4ca1-add2-7daca65b365e",
   "metadata": {},
   "outputs": [
    {
     "data": {
      "text/plain": [
       "array([[18, 85, 78],\n",
       "       [19, 92, 88],\n",
       "       [17, 76, 95],\n",
       "       [18, 65,  0],\n",
       "       [20, 90, 85]])"
      ]
     },
     "execution_count": 85,
     "metadata": {},
     "output_type": "execute_result"
    }
   ],
   "source": [
    "#Replace all Science marks < 75 with 0.\n",
    "data[:, 2][data[:, 2] < 75] = 0\n",
    "data"
   ]
  }
 ],
 "metadata": {
  "kernelspec": {
   "display_name": "base",
   "language": "python",
   "name": "python3"
  },
  "language_info": {
   "codemirror_mode": {
    "name": "ipython",
    "version": 3
   },
   "file_extension": ".py",
   "mimetype": "text/x-python",
   "name": "python",
   "nbconvert_exporter": "python",
   "pygments_lexer": "ipython3",
   "version": "3.13.5"
  }
 },
 "nbformat": 4,
 "nbformat_minor": 5
}
