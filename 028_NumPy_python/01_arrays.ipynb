{
 "cells": [
  {
   "cell_type": "code",
   "execution_count": 2,
   "id": "a742822e-fd43-4f39-a1a1-27de45821872",
   "metadata": {},
   "outputs": [],
   "source": [
    "import numpy as np"
   ]
  },
  {
   "cell_type": "code",
   "execution_count": 2,
   "id": "61e14cb0-f8b2-4266-9c9e-14d34222111e",
   "metadata": {},
   "outputs": [],
   "source": [
    "#Basic numpy array creation "
   ]
  },
  {
   "cell_type": "code",
   "execution_count": 3,
   "id": "2690d6e0-3bd0-4f27-aeb2-0736099f1615",
   "metadata": {},
   "outputs": [],
   "source": [
    "arr = np.array([1,2, 3, 4, 5, 6])"
   ]
  },
  {
   "cell_type": "code",
   "execution_count": 4,
   "id": "c64a0e5c-106f-4a30-8703-d44d2a3137cc",
   "metadata": {},
   "outputs": [
    {
     "name": "stdout",
     "output_type": "stream",
     "text": [
      "[1 2 3 4 5 6]\n"
     ]
    }
   ],
   "source": [
    "print(arr)"
   ]
  },
  {
   "cell_type": "code",
   "execution_count": 5,
   "id": "cdde89c3-9dc0-421d-9b90-c58a56cb4fb3",
   "metadata": {},
   "outputs": [
    {
     "data": {
      "text/plain": [
       "[1, 2, 3.5, 'hello']"
      ]
     },
     "execution_count": 5,
     "metadata": {},
     "output_type": "execute_result"
    }
   ],
   "source": [
    "a = [1, 2, 3.5, \"hello\"]\n",
    "a"
   ]
  },
  {
   "cell_type": "code",
   "execution_count": 6,
   "id": "0b674add-8f63-4d8e-a9a9-a3f4c482a135",
   "metadata": {},
   "outputs": [
    {
     "data": {
      "text/plain": [
       "array(['1', '2', '3.5', 'hello'], dtype='<U32')"
      ]
     },
     "execution_count": 6,
     "metadata": {},
     "output_type": "execute_result"
    }
   ],
   "source": [
    "np.array(a) #it will automatically convert all elements to a suitable datatype to keep itself homogenous"
   ]
  },
  {
   "cell_type": "code",
   "execution_count": 7,
   "id": "338c764e-7b35-4265-9245-c6cc84e9dad7",
   "metadata": {},
   "outputs": [
    {
     "data": {
      "text/plain": [
       "[[1, 2, 3], [4, 5, 6], [7, 8, 9]]"
      ]
     },
     "execution_count": 7,
     "metadata": {},
     "output_type": "execute_result"
    }
   ],
   "source": [
    "l = [[1, 2, 3], [4, 5, 6], [7, 8, 9]]\n",
    "l"
   ]
  },
  {
   "cell_type": "code",
   "execution_count": 8,
   "id": "37226551-36e5-423e-bc96-54011e043920",
   "metadata": {},
   "outputs": [
    {
     "data": {
      "text/plain": [
       "array([[1, 2, 3],\n",
       "       [4, 5, 6],\n",
       "       [7, 8, 9]])"
      ]
     },
     "execution_count": 8,
     "metadata": {},
     "output_type": "execute_result"
    }
   ],
   "source": [
    "np.array(l)"
   ]
  },
  {
   "cell_type": "markdown",
   "id": "02753151-7c07-4288-a569-db62b02c0f48",
   "metadata": {},
   "source": [
    "Array Generation Function"
   ]
  },
  {
   "cell_type": "code",
   "execution_count": 9,
   "id": "ecf209f3-98fb-490c-be03-58907852057b",
   "metadata": {},
   "outputs": [
    {
     "data": {
      "text/plain": [
       "array([1, 2, 3, 4, 5, 6, 7, 8, 9])"
      ]
     },
     "execution_count": 9,
     "metadata": {},
     "output_type": "execute_result"
    }
   ],
   "source": [
    "arr = np.arange(1, 10)\n",
    "arr"
   ]
  },
  {
   "cell_type": "code",
   "execution_count": 10,
   "id": "cc0934f1-3940-465e-9b33-1ecada065c31",
   "metadata": {},
   "outputs": [
    {
     "data": {
      "text/plain": [
       "array([0., 0., 0., 0., 0., 0.])"
      ]
     },
     "execution_count": 10,
     "metadata": {},
     "output_type": "execute_result"
    }
   ],
   "source": [
    "arr = np.zeros(6)\n",
    "arr"
   ]
  },
  {
   "cell_type": "code",
   "execution_count": 11,
   "id": "58ed2ee1-4ae0-4dc0-8343-72ed39ce3149",
   "metadata": {},
   "outputs": [
    {
     "data": {
      "text/plain": [
       "array([[1., 1., 1.],\n",
       "       [1., 1., 1.]])"
      ]
     },
     "execution_count": 11,
     "metadata": {},
     "output_type": "execute_result"
    }
   ],
   "source": [
    "arr = np.ones((2, 3))\n",
    "arr #2d array"
   ]
  },
  {
   "cell_type": "code",
   "execution_count": 12,
   "id": "2227bc17-b54d-467b-93c1-f7184b1a6f04",
   "metadata": {},
   "outputs": [
    {
     "data": {
      "text/plain": [
       "array([1., 3., 5.])"
      ]
     },
     "execution_count": 12,
     "metadata": {},
     "output_type": "execute_result"
    }
   ],
   "source": [
    "arr = np.linspace(1, 5, 3)\n",
    "arr\n",
    "\n",
    "# Return evenly spaced numbers over a specified interval.\n",
    "# Returns `num` evenly spaced samples, calculated over the\n",
    "# interval [`start`, `stop`]."
   ]
  },
  {
   "cell_type": "code",
   "execution_count": 13,
   "id": "de3fa59f-9fce-49fa-8920-6cfaad4809a8",
   "metadata": {},
   "outputs": [
    {
     "name": "stdout",
     "output_type": "stream",
     "text": [
      "hello vs code\n"
     ]
    }
   ],
   "source": [
    "print(\"hello vs code\")"
   ]
  },
  {
   "cell_type": "code",
   "execution_count": null,
   "id": "029273ca",
   "metadata": {},
   "outputs": [],
   "source": []
  }
 ],
 "metadata": {
  "kernelspec": {
   "display_name": "base",
   "language": "python",
   "name": "python3"
  },
  "language_info": {
   "codemirror_mode": {
    "name": "ipython",
    "version": 3
   },
   "file_extension": ".py",
   "mimetype": "text/x-python",
   "name": "python",
   "nbconvert_exporter": "python",
   "pygments_lexer": "ipython3",
   "version": "3.13.5"
  }
 },
 "nbformat": 4,
 "nbformat_minor": 5
}
