{
 "cells": [
  {
   "cell_type": "code",
   "execution_count": 2,
   "id": "a742822e-fd43-4f39-a1a1-27de45821872",
   "metadata": {},
   "outputs": [],
   "source": [
    "import numpy as np"
   ]
  },
  {
   "cell_type": "code",
   "execution_count": 3,
   "id": "61e14cb0-f8b2-4266-9c9e-14d34222111e",
   "metadata": {},
   "outputs": [],
   "source": [
    "#Basic numpy array creation "
   ]
  },
  {
   "cell_type": "code",
   "execution_count": 4,
   "id": "2690d6e0-3bd0-4f27-aeb2-0736099f1615",
   "metadata": {},
   "outputs": [],
   "source": [
    "arr = np.array([1,2, 3, 4, 5, 6])"
   ]
  },
  {
   "cell_type": "code",
   "execution_count": 5,
   "id": "c64a0e5c-106f-4a30-8703-d44d2a3137cc",
   "metadata": {},
   "outputs": [
    {
     "name": "stdout",
     "output_type": "stream",
     "text": [
      "[1 2 3 4 5 6]\n"
     ]
    }
   ],
   "source": [
    "print(arr)"
   ]
  },
  {
   "cell_type": "code",
   "execution_count": 6,
   "id": "cdde89c3-9dc0-421d-9b90-c58a56cb4fb3",
   "metadata": {},
   "outputs": [
    {
     "data": {
      "text/plain": [
       "[1, 2, 3.5, 'hello']"
      ]
     },
     "execution_count": 6,
     "metadata": {},
     "output_type": "execute_result"
    }
   ],
   "source": [
    "a = [1, 2, 3.5, \"hello\"]\n",
    "a"
   ]
  },
  {
   "cell_type": "code",
   "execution_count": 7,
   "id": "0b674add-8f63-4d8e-a9a9-a3f4c482a135",
   "metadata": {},
   "outputs": [
    {
     "data": {
      "text/plain": [
       "array(['1', '2', '3.5', 'hello'], dtype='<U32')"
      ]
     },
     "execution_count": 7,
     "metadata": {},
     "output_type": "execute_result"
    }
   ],
   "source": [
    "np.array(a) #it will automatically convert all elements to a suitable datatype to keep itself homogenous"
   ]
  },
  {
   "cell_type": "code",
   "execution_count": 8,
   "id": "338c764e-7b35-4265-9245-c6cc84e9dad7",
   "metadata": {},
   "outputs": [
    {
     "data": {
      "text/plain": [
       "[[1, 2, 3], [4, 5, 6], [7, 8, 9]]"
      ]
     },
     "execution_count": 8,
     "metadata": {},
     "output_type": "execute_result"
    }
   ],
   "source": [
    "l = [[1, 2, 3], [4, 5, 6], [7, 8, 9]]\n",
    "l"
   ]
  },
  {
   "cell_type": "code",
   "execution_count": 9,
   "id": "37226551-36e5-423e-bc96-54011e043920",
   "metadata": {},
   "outputs": [
    {
     "data": {
      "text/plain": [
       "array([[1, 2, 3],\n",
       "       [4, 5, 6],\n",
       "       [7, 8, 9]])"
      ]
     },
     "execution_count": 9,
     "metadata": {},
     "output_type": "execute_result"
    }
   ],
   "source": [
    "np.array(l)"
   ]
  },
  {
   "cell_type": "markdown",
   "id": "02753151-7c07-4288-a569-db62b02c0f48",
   "metadata": {},
   "source": [
    "Array Generation Function"
   ]
  },
  {
   "cell_type": "code",
   "execution_count": 10,
   "id": "ecf209f3-98fb-490c-be03-58907852057b",
   "metadata": {},
   "outputs": [
    {
     "data": {
      "text/plain": [
       "array([1, 2, 3, 4, 5, 6, 7, 8, 9])"
      ]
     },
     "execution_count": 10,
     "metadata": {},
     "output_type": "execute_result"
    }
   ],
   "source": [
    "arr = np.arange(1, 10)\n",
    "arr"
   ]
  },
  {
   "cell_type": "code",
   "execution_count": 11,
   "id": "cc0934f1-3940-465e-9b33-1ecada065c31",
   "metadata": {},
   "outputs": [
    {
     "data": {
      "text/plain": [
       "array([0., 0., 0., 0., 0., 0.])"
      ]
     },
     "execution_count": 11,
     "metadata": {},
     "output_type": "execute_result"
    }
   ],
   "source": [
    "arr = np.zeros(6)\n",
    "arr"
   ]
  },
  {
   "cell_type": "code",
   "execution_count": 12,
   "id": "58ed2ee1-4ae0-4dc0-8343-72ed39ce3149",
   "metadata": {},
   "outputs": [
    {
     "data": {
      "text/plain": [
       "array([[1., 1., 1.],\n",
       "       [1., 1., 1.]])"
      ]
     },
     "execution_count": 12,
     "metadata": {},
     "output_type": "execute_result"
    }
   ],
   "source": [
    "arr = np.ones((2, 3))\n",
    "arr #2d array"
   ]
  },
  {
   "cell_type": "code",
   "execution_count": 13,
   "id": "2227bc17-b54d-467b-93c1-f7184b1a6f04",
   "metadata": {},
   "outputs": [
    {
     "data": {
      "text/plain": [
       "array([1., 3., 5.])"
      ]
     },
     "execution_count": 13,
     "metadata": {},
     "output_type": "execute_result"
    }
   ],
   "source": [
    "arr = np.linspace(1, 5, 3)\n",
    "arr\n",
    "\n",
    "# Return evenly spaced numbers over a specified interval.\n",
    "# Returns `num` evenly spaced samples, calculated over the\n",
    "# interval [`start`, `stop`]."
   ]
  },
  {
   "cell_type": "code",
   "execution_count": 14,
   "id": "de3fa59f-9fce-49fa-8920-6cfaad4809a8",
   "metadata": {},
   "outputs": [
    {
     "name": "stdout",
     "output_type": "stream",
     "text": [
      "hello vs code2\n"
     ]
    }
   ],
   "source": [
    "print(\"hello vs code2\")"
   ]
  },
  {
   "cell_type": "markdown",
   "id": "60aa05b7-2537-4a82-9df5-3b9657eea908",
   "metadata": {},
   "source": [
    "Random Generation Function"
   ]
  },
  {
   "cell_type": "code",
   "execution_count": 17,
   "id": "e188ce28-40a7-4819-b199-a7abebf3fa46",
   "metadata": {},
   "outputs": [
    {
     "data": {
      "text/plain": [
       "array([0.6456554 , 0.84088572, 0.96748434, 0.53658163, 0.48219206,\n",
       "       0.38736565, 0.2547075 , 0.04638854, 0.10123742, 0.43125082])"
      ]
     },
     "execution_count": 17,
     "metadata": {},
     "output_type": "execute_result"
    }
   ],
   "source": [
    "np.random.rand(10)#generate an array with given x elements randomly between 0 and 1 by default\n",
    "#when values are generated between 0 and 1 -> this is concept of normalization\n",
    "\n",
    "#in standardization the values are generated between -3 and 3"
   ]
  },
  {
   "cell_type": "code",
   "execution_count": 24,
   "id": "9a463e48-adcd-40c7-8107-15e0a6ed0b4c",
   "metadata": {},
   "outputs": [
    {
     "data": {
      "text/plain": [
       "array([ 0.65438431, -0.64256464, -1.37007281,  1.32329931,  0.42254331,\n",
       "       -2.40939338, -0.17948428,  0.97397786, -1.79739901, -0.95133485])"
      ]
     },
     "execution_count": 24,
     "metadata": {},
     "output_type": "execute_result"
    }
   ],
   "source": [
    "np.random.randn(10)\n",
    "#in standardization the values are generated between -3 and 3"
   ]
  },
  {
   "cell_type": "code",
   "execution_count": 25,
   "id": "a5155aa8-d5a1-412a-8c28-96b863c36406",
   "metadata": {},
   "outputs": [
    {
     "data": {
      "text/plain": [
       "2"
      ]
     },
     "execution_count": 25,
     "metadata": {},
     "output_type": "execute_result"
    }
   ],
   "source": [
    "np.random.randint(6) #genrates only one random int from 0 to 6"
   ]
  },
  {
   "cell_type": "code",
   "execution_count": 26,
   "id": "f9439872-ac93-4970-a23c-2b5c2c2ea3f2",
   "metadata": {},
   "outputs": [
    {
     "data": {
      "text/plain": [
       "array([16, 16, 10, 18, 15, 13, 10, 19, 18, 14], dtype=int32)"
      ]
     },
     "execution_count": 26,
     "metadata": {},
     "output_type": "execute_result"
    }
   ],
   "source": [
    "np.random.randint(10, 20, 10) #low, high, how many"
   ]
  },
  {
   "cell_type": "markdown",
   "id": "cfedc9ec-74fc-4f7e-a68e-96cf2604fc21",
   "metadata": {},
   "source": [
    "Array attributes"
   ]
  },
  {
   "cell_type": "code",
   "execution_count": 27,
   "id": "33072f10-1688-4450-a7f4-599087ea2e56",
   "metadata": {},
   "outputs": [
    {
     "data": {
      "text/plain": [
       "array([[1, 2, 3],\n",
       "       [4, 5, 6],\n",
       "       [7, 8, 9]])"
      ]
     },
     "execution_count": 27,
     "metadata": {},
     "output_type": "execute_result"
    }
   ],
   "source": [
    "arr = np.array([[1, 2, 3], [4, 5, 6], [7, 8, 9]])\n",
    "arr"
   ]
  },
  {
   "cell_type": "code",
   "execution_count": 29,
   "id": "c4519630-99a1-4671-bcb3-19fbd41b41dc",
   "metadata": {},
   "outputs": [
    {
     "data": {
      "text/plain": [
       "(3, 3)"
      ]
     },
     "execution_count": 29,
     "metadata": {},
     "output_type": "execute_result"
    }
   ],
   "source": [
    "arr.shape #this is an attribute, give dimensions of array"
   ]
  },
  {
   "cell_type": "code",
   "execution_count": 30,
   "id": "644472ce-adf0-4858-b880-d5bbc62edc26",
   "metadata": {},
   "outputs": [
    {
     "data": {
      "text/plain": [
       "9"
      ]
     },
     "execution_count": 30,
     "metadata": {},
     "output_type": "execute_result"
    }
   ],
   "source": [
    "arr.size #gives sixe of array"
   ]
  },
  {
   "cell_type": "code",
   "execution_count": 31,
   "id": "79c4458c-bc17-40d6-97ac-880d089661c0",
   "metadata": {},
   "outputs": [
    {
     "data": {
      "text/plain": [
       "dtype('int64')"
      ]
     },
     "execution_count": 31,
     "metadata": {},
     "output_type": "execute_result"
    }
   ],
   "source": [
    "arr.dtype #give data type of array"
   ]
  },
  {
   "cell_type": "markdown",
   "id": "9321e140-0bbd-4986-b2b9-bb01a25c4206",
   "metadata": {},
   "source": [
    "Array Methods"
   ]
  },
  {
   "cell_type": "code",
   "execution_count": 32,
   "id": "b412bcf3-e8c1-43a1-95c1-257af81315ec",
   "metadata": {},
   "outputs": [
    {
     "data": {
      "text/plain": [
       "np.int64(1)"
      ]
     },
     "execution_count": 32,
     "metadata": {},
     "output_type": "execute_result"
    }
   ],
   "source": [
    "arr.min()"
   ]
  },
  {
   "cell_type": "code",
   "execution_count": 33,
   "id": "0472669b-ba3f-49b9-8cb4-c630be6bb439",
   "metadata": {},
   "outputs": [
    {
     "data": {
      "text/plain": [
       "np.int64(9)"
      ]
     },
     "execution_count": 33,
     "metadata": {},
     "output_type": "execute_result"
    }
   ],
   "source": [
    "arr.max()"
   ]
  },
  {
   "cell_type": "code",
   "execution_count": 34,
   "id": "f5fe2b5a-460e-4f81-a7c3-f9525abcd9be",
   "metadata": {},
   "outputs": [
    {
     "data": {
      "text/plain": [
       "np.int64(45)"
      ]
     },
     "execution_count": 34,
     "metadata": {},
     "output_type": "execute_result"
    }
   ],
   "source": [
    "arr.sum() #gives summ of all elements in the array"
   ]
  },
  {
   "cell_type": "code",
   "execution_count": 38,
   "id": "d80e7423-f495-46b0-9122-163c2aa786bc",
   "metadata": {},
   "outputs": [
    {
     "data": {
      "text/plain": [
       "array([12, 15, 18])"
      ]
     },
     "execution_count": 38,
     "metadata": {},
     "output_type": "execute_result"
    }
   ],
   "source": [
    "np.sum(arr, axis = 0) # axis is column, this is used for columnwise sum, axis 1 for rowwise, axis 0 for columnwise"
   ]
  },
  {
   "cell_type": "code",
   "execution_count": 39,
   "id": "ccc07b1f-e94a-4701-b900-8cb6dc859ede",
   "metadata": {},
   "outputs": [
    {
     "data": {
      "text/plain": [
       "np.float64(5.0)"
      ]
     },
     "execution_count": 39,
     "metadata": {},
     "output_type": "execute_result"
    }
   ],
   "source": [
    "arr.mean()"
   ]
  },
  {
   "cell_type": "code",
   "execution_count": 40,
   "id": "4f077b97-52a3-4a7a-b5cc-304116622b4f",
   "metadata": {},
   "outputs": [
    {
     "data": {
      "text/plain": [
       "np.float64(2.581988897471611)"
      ]
     },
     "execution_count": 40,
     "metadata": {},
     "output_type": "execute_result"
    }
   ],
   "source": [
    "arr.std()"
   ]
  },
  {
   "cell_type": "code",
   "execution_count": 41,
   "id": "a6a0ca91-a0b5-4cad-9e77-52cf3df5813b",
   "metadata": {},
   "outputs": [
    {
     "data": {
      "text/plain": [
       "np.int64(8)"
      ]
     },
     "execution_count": 41,
     "metadata": {},
     "output_type": "execute_result"
    }
   ],
   "source": [
    "arr.argmax() #index of max element"
   ]
  },
  {
   "cell_type": "code",
   "execution_count": 43,
   "id": "1b63f0c1-0702-4c80-98a9-ddc49aa4744f",
   "metadata": {},
   "outputs": [
    {
     "data": {
      "text/plain": [
       "np.int64(0)"
      ]
     },
     "execution_count": 43,
     "metadata": {},
     "output_type": "execute_result"
    }
   ],
   "source": [
    "arr.argmin() #index of min element"
   ]
  },
  {
   "cell_type": "code",
   "execution_count": 45,
   "id": "08ebf3d4-dc23-423b-aa8f-4c3794013d92",
   "metadata": {},
   "outputs": [
    {
     "data": {
      "text/plain": [
       "array([ 1,  2,  3,  4,  5,  6,  7,  8,  9, 10, 11, 12, 13, 14, 15, 16, 17,\n",
       "       18, 19, 20, 21, 22, 23, 24, 25, 26, 27, 28, 29, 30])"
      ]
     },
     "execution_count": 45,
     "metadata": {},
     "output_type": "execute_result"
    }
   ],
   "source": [
    "arr = np.arange(1, 31)\n",
    "arr"
   ]
  },
  {
   "cell_type": "code",
   "execution_count": 46,
   "id": "fbf2dfaa-3e8e-4ac3-86e1-fde19b1b6e47",
   "metadata": {},
   "outputs": [
    {
     "data": {
      "text/plain": [
       "array([[ 1,  2,  3,  4,  5],\n",
       "       [ 6,  7,  8,  9, 10],\n",
       "       [11, 12, 13, 14, 15],\n",
       "       [16, 17, 18, 19, 20],\n",
       "       [21, 22, 23, 24, 25],\n",
       "       [26, 27, 28, 29, 30]])"
      ]
     },
     "execution_count": 46,
     "metadata": {},
     "output_type": "execute_result"
    }
   ],
   "source": [
    "arr = arr.reshape(6, 5) #reshape dimensions of the array, store this new array in arr itself->resizng"
   ]
  },
  {
   "cell_type": "code",
   "execution_count": null,
   "id": "a3e33b1c-21f3-452d-96c7-1ca676b7bb0c",
   "metadata": {},
   "outputs": [],
   "source": []
  }
 ],
 "metadata": {
  "kernelspec": {
   "display_name": "base",
   "language": "python",
   "name": "python3"
  },
  "language_info": {
   "codemirror_mode": {
    "name": "ipython",
    "version": 3
   },
   "file_extension": ".py",
   "mimetype": "text/x-python",
   "name": "python",
   "nbconvert_exporter": "python",
   "pygments_lexer": "ipython3",
   "version": "3.13.5"
  }
 },
 "nbformat": 4,
 "nbformat_minor": 5
}
