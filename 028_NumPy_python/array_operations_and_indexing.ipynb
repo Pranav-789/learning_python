{
 "cells": [
  {
   "cell_type": "code",
   "execution_count": 1,
   "id": "2e7f80f1-d80e-4977-b4af-b9c0b0925b15",
   "metadata": {},
   "outputs": [],
   "source": [
    "import numpy as np "
   ]
  },
  {
   "cell_type": "code",
   "execution_count": 3,
   "id": "f1b6cd8f-b75b-4b59-98ae-79151d004414",
   "metadata": {},
   "outputs": [
    {
     "data": {
      "text/plain": [
       "array([11, 12, 13, 14, 15, 16, 17, 18, 19, 20])"
      ]
     },
     "execution_count": 3,
     "metadata": {},
     "output_type": "execute_result"
    }
   ],
   "source": [
    "arr = np.arange(11, 21)\n",
    "arr"
   ]
  },
  {
   "cell_type": "code",
   "execution_count": 8,
   "id": "4713949f-b9f4-4dd3-aab9-d104493f5834",
   "metadata": {},
   "outputs": [
    {
     "name": "stdout",
     "output_type": "stream",
     "text": [
      "20\n"
     ]
    }
   ],
   "source": [
    "#indexing is same as list\n",
    "print(arr[9])"
   ]
  },
  {
   "cell_type": "code",
   "execution_count": 13,
   "id": "833d7b62-47e1-462f-837d-d2bea37e5a27",
   "metadata": {},
   "outputs": [
    {
     "name": "stdout",
     "output_type": "stream",
     "text": [
      "[12 13 14 15]\n",
      "[12 14 16 18 20]\n"
     ]
    }
   ],
   "source": [
    "#slicing\n",
    "print(arr[1:5:1]) #start, end+1, steps here four elements are sliced\n",
    "print(arr[1::2])"
   ]
  },
  {
   "cell_type": "markdown",
   "id": "272bfa46-339e-4b65-a51e-dc0e17b55781",
   "metadata": {},
   "source": [
    "NUMPY INDEXING AND SLICING OF MATRIX"
   ]
  },
  {
   "cell_type": "code",
   "execution_count": 14,
   "id": "422c6363-e3d0-4a11-8afe-802aa02c3229",
   "metadata": {},
   "outputs": [
    {
     "data": {
      "text/plain": [
       "array([[ 1,  2,  3,  4,  5],\n",
       "       [ 6,  7,  8,  9, 10],\n",
       "       [11, 12, 13, 14, 15],\n",
       "       [16, 17, 18, 19, 20],\n",
       "       [21, 22, 23, 24, 25],\n",
       "       [26, 27, 28, 29, 30]])"
      ]
     },
     "execution_count": 14,
     "metadata": {},
     "output_type": "execute_result"
    }
   ],
   "source": [
    "arr = np.arange(1, 31).reshape(6, 5)\n",
    "arr"
   ]
  },
  {
   "cell_type": "code",
   "execution_count": 17,
   "id": "a86a65ab-2314-4295-a505-29d38b2590b6",
   "metadata": {},
   "outputs": [
    {
     "data": {
      "text/plain": [
       "array([26, 27, 28, 29, 30])"
      ]
     },
     "execution_count": 17,
     "metadata": {},
     "output_type": "execute_result"
    }
   ],
   "source": [
    "arr[0] #gives the 0th row\n",
    "# arr[1] #gives the 1th row\n",
    "# arr[2] #gives the 2th row\n",
    "# arr[3] #gives the 3th row\n",
    "# arr[4] #gives the 4th row\n",
    "# arr[5] #gives the 5th row"
   ]
  },
  {
   "cell_type": "code",
   "execution_count": 22,
   "id": "e4760b0a-f586-4bdd-9593-8104c718194c",
   "metadata": {},
   "outputs": [
    {
     "name": "stdout",
     "output_type": "stream",
     "text": [
      "5\n",
      "4\n"
     ]
    }
   ],
   "source": [
    "#getting an element\n",
    "print(arr[0, 4]) #this is how 2d indexing works in numpy\n",
    "print(arr[0][3])"
   ]
  },
  {
   "cell_type": "code",
   "execution_count": 27,
   "id": "6f352a37-fe40-4967-863a-390446e8b13d",
   "metadata": {},
   "outputs": [
    {
     "data": {
      "text/plain": [
       "array([[2, 3],\n",
       "       [7, 8]])"
      ]
     },
     "execution_count": 27,
     "metadata": {},
     "output_type": "execute_result"
    }
   ],
   "source": [
    "#slicing of matrix\n",
    "#example slice out 2, 7, 3, 8\n",
    "#col 1, 2 THERFORE WRITE 1:3\n",
    "#row 0, 1 THERFORE WRITE 0:2\n",
    "slice = arr[0:2, 1:3]\n",
    "slice"
   ]
  },
  {
   "cell_type": "code",
   "execution_count": 28,
   "id": "6f0dcbaa-7fb7-4818-9ccd-1491fd5183bc",
   "metadata": {},
   "outputs": [
    {
     "data": {
      "text/plain": [
       "array([[19, 20],\n",
       "       [24, 25],\n",
       "       [29, 30]])"
      ]
     },
     "execution_count": 28,
     "metadata": {},
     "output_type": "execute_result"
    }
   ],
   "source": [
    "#ex slice out 19, 20, 24, 25, 29, 30\n",
    "slice2 = arr[3:6, 3:5] #similar to arr[3:, 3:] as by default we want to go to end\n",
    "slice2"
   ]
  },
  {
   "cell_type": "code",
   "execution_count": 31,
   "id": "46fbb429-4e2d-482f-9fd5-6b3d053de3e3",
   "metadata": {},
   "outputs": [
    {
     "data": {
      "text/plain": [
       "array([ 3,  8, 13, 18, 23, 28])"
      ]
     },
     "execution_count": 31,
     "metadata": {},
     "output_type": "execute_result"
    }
   ],
   "source": [
    "arr[:, 2] #slicing a column #give a vector"
   ]
  },
  {
   "cell_type": "markdown",
   "id": "10656164-b5d7-4560-baa2-154ad63f729d",
   "metadata": {},
   "source": [
    "BOOLEAN INDEXING"
   ]
  },
  {
   "cell_type": "code",
   "execution_count": 33,
   "id": "f879bdc6-9645-4f2d-833a-bdab58fd332f",
   "metadata": {},
   "outputs": [
    {
     "data": {
      "text/plain": [
       "array([11, 12, 13, 14, 15, 16, 17, 18, 19, 20])"
      ]
     },
     "execution_count": 33,
     "metadata": {},
     "output_type": "execute_result"
    }
   ],
   "source": [
    "arr = np.arange(11, 21)\n",
    "arr"
   ]
  },
  {
   "cell_type": "code",
   "execution_count": 34,
   "id": "79c207d5-c222-43e1-bfbb-0cd662ef794b",
   "metadata": {},
   "outputs": [
    {
     "data": {
      "text/plain": [
       "array([False,  True, False,  True, False,  True, False,  True, False,\n",
       "        True])"
      ]
     },
     "execution_count": 34,
     "metadata": {},
     "output_type": "execute_result"
    }
   ],
   "source": [
    "#we want all even numbers from an array\n",
    "bool_index = arr%2==0\n",
    "bool_index #creates an array of T or F, for the given condition"
   ]
  },
  {
   "cell_type": "code",
   "execution_count": 35,
   "id": "9f30d7bf-181f-4fd1-a875-150e846ed39d",
   "metadata": {},
   "outputs": [
    {
     "data": {
      "text/plain": [
       "array([12, 14, 16, 18, 20])"
      ]
     },
     "execution_count": 35,
     "metadata": {},
     "output_type": "execute_result"
    }
   ],
   "source": [
    "arr = arr[bool_index]\n",
    "arr #only true indiced elements will be reassigned in the array"
   ]
  },
  {
   "cell_type": "code",
   "execution_count": null,
   "id": "053c64e5-f363-4e5d-b1d8-e5ffb29b0e90",
   "metadata": {},
   "outputs": [],
   "source": []
  }
 ],
 "metadata": {
  "kernelspec": {
   "display_name": "Python [conda env:base] *",
   "language": "python",
   "name": "conda-base-py"
  },
  "language_info": {
   "codemirror_mode": {
    "name": "ipython",
    "version": 3
   },
   "file_extension": ".py",
   "mimetype": "text/x-python",
   "name": "python",
   "nbconvert_exporter": "python",
   "pygments_lexer": "ipython3",
   "version": "3.13.5"
  }
 },
 "nbformat": 4,
 "nbformat_minor": 5
}
